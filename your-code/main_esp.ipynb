{
 "cells": [
  {
   "cell_type": "markdown",
   "metadata": {},
   "source": [
    "## Palabras"
   ]
  },
  {
   "cell_type": "code",
   "execution_count": 33,
   "metadata": {},
   "outputs": [],
   "source": [
    "words = ['play', 'filling', 'bar', 'theatre', 'easygoing', 'date', 'lead', 'that', 'story',  'island']"
   ]
  },
  {
   "cell_type": "markdown",
   "metadata": {},
   "source": [
    "**Imprime todas las letras en mayuscula**"
   ]
  },
  {
   "cell_type": "code",
   "execution_count": 67,
   "metadata": {},
   "outputs": [
    {
     "name": "stdout",
     "output_type": "stream",
     "text": [
      "['PLAY', 'FILLING', 'BAR', 'THEATRE', 'EASYGOING', 'DATE', 'LEAD', 'THAT', 'STORY', 'ISLAND']\n"
     ]
    }
   ],
   "source": [
    "# creem una nova llista a partir de words convertint en majúscules cada element de words que repassem amb un bucle for\n",
    "words_1 = []\n",
    "\n",
    "for i in words :\n",
    "    words_1.append(i.upper())\n",
    "\n",
    "print(words_1)"
   ]
  },
  {
   "cell_type": "markdown",
   "metadata": {},
   "source": [
    "**Crea una nueva lista que contenga 5 o más letras**"
   ]
  },
  {
   "cell_type": "code",
   "execution_count": 69,
   "metadata": {},
   "outputs": [
    {
     "name": "stdout",
     "output_type": "stream",
     "text": [
      "La mida de cada paraula de la llista és: [4, 7, 3, 7, 9, 4, 4, 4, 5, 6]\n",
      "La llista amb paraules amb una llargària de 5 o més caràcters és: ['island', 'island', 'island', 'island', 'island']\n"
     ]
    }
   ],
   "source": [
    "# Entenc que el que l'enunciat vol dir és que hem de crear una nova llista amb totes les paraules de word amb 5 o més lletres.\n",
    "\n",
    "# Comptem el número de lletres de cada paraula (no cal, però així serà més fàcil saber si ho hem fet bé)\n",
    "\n",
    "len_1 = []\n",
    "j = 0\n",
    "\n",
    "for j in words :\n",
    "    len_1.append(len(j))\n",
    "\n",
    "print(f\"La mida de cada paraula de la llista és: {len_1}\")\n",
    "\n",
    "# Ara repassem amb un bucle for words i desem en una nova taula les paraules amb una mida de 5 o més caràcters\n",
    "\n",
    "words_2 = []\n",
    "k = 0\n",
    "\n",
    "for k in words :\n",
    "    if len(k) >= 5 :\n",
    "        words_2.append(j)\n",
    "\n",
    "print(f\"La llista amb paraules amb una llargària de 5 o més caràcters és: {words_2}\")"
   ]
  },
  {
   "cell_type": "markdown",
   "metadata": {},
   "source": [
    "**Imprime la primera palabra que empiece por 't'**"
   ]
  },
  {
   "cell_type": "code",
   "execution_count": 73,
   "metadata": {},
   "outputs": [
    {
     "name": "stdout",
     "output_type": "stream",
     "text": [
      "La primera paraula que comença per 't' és: theatre\n"
     ]
    }
   ],
   "source": [
    "# Ho farem a partir de la llista words\n",
    "\n",
    "l = 0\n",
    "\n",
    "for l in words: # repassem la llista words cercant paraules que comencin per \"t\"\n",
    "    if l.startswith(\"t\") :\n",
    "        print(f\"La primera paraula que comença per 't' és: {l}\")\n",
    "        break # afegim un break per tal que no continui cercant un cop que n'ha trobat la primera"
   ]
  },
  {
   "cell_type": "markdown",
   "metadata": {},
   "source": [
    "## Numeros"
   ]
  },
  {
   "cell_type": "markdown",
   "metadata": {},
   "source": [
    "**Crea una lista que contenga el cuadraro de cada numero entre 1 y 10**"
   ]
  },
  {
   "cell_type": "code",
   "execution_count": 83,
   "metadata": {},
   "outputs": [
    {
     "name": "stdout",
     "output_type": "stream",
     "text": [
      "El quadrat dels nombres entre 1 i 10 és: [1, 4, 9, 16, 25, 36, 49, 64, 81, 100]\n"
     ]
    }
   ],
   "source": [
    "quadrats=[]\n",
    "m = 0\n",
    "for m in range(1,11): # repassem la llista del 1 al 10 mitjançant un for\n",
    "    quadrats.append(m**2) # afegim el quadrat de cada número\n",
    "\n",
    "print(f\"El quadrat dels nombres entre 1 i 10 és: {quadrats}\")"
   ]
  },
  {
   "cell_type": "markdown",
   "metadata": {},
   "source": [
    "**Imprime una lista que contenga el cuadrado de cada número impar del 1 al 10**"
   ]
  },
  {
   "cell_type": "code",
   "execution_count": 85,
   "metadata": {},
   "outputs": [
    {
     "name": "stdout",
     "output_type": "stream",
     "text": [
      "El quadrat dels nombres senars entre 1 i 10 és: [1, 9, 25, 49, 81]\n"
     ]
    }
   ],
   "source": [
    "quadrats_1=[]\n",
    "n = 0\n",
    "\n",
    "for n in range(1,11):\n",
    "    if n%2 != 0: # comprovem que n no sigui senar, és a dir, que no sigui congruent amb 0 (mod 2)\n",
    "        quadrats_1.append(n**2)\n",
    "\n",
    "print(f\"El quadrat dels nombres senars entre 1 i 10 és: {quadrats_1}\")"
   ]
  },
  {
   "cell_type": "markdown",
   "metadata": {},
   "source": [
    "**Crear una lista con los cuadrados de todos los múltiplos de 8 por debajo de 1000**"
   ]
  },
  {
   "cell_type": "code",
   "execution_count": 87,
   "metadata": {},
   "outputs": [
    {
     "name": "stdout",
     "output_type": "stream",
     "text": [
      "El quadrat dels múltiples de 8 inferiors a 1.000 és: [64, 256, 576, 1024, 1600, 2304, 3136, 4096, 5184, 6400, 7744, 9216, 10816, 12544, 14400, 16384, 18496, 20736, 23104, 25600, 28224, 30976, 33856, 36864, 40000, 43264, 46656, 50176, 53824, 57600, 61504, 65536, 69696, 73984, 78400, 82944, 87616, 92416, 97344, 102400, 107584, 112896, 118336, 123904, 129600, 135424, 141376, 147456, 153664, 160000, 166464, 173056, 179776, 186624, 193600, 200704, 207936, 215296, 222784, 230400, 238144, 246016, 254016, 262144, 270400, 278784, 287296, 295936, 304704, 313600, 322624, 331776, 341056, 350464, 360000, 369664, 379456, 389376, 399424, 409600, 419904, 430336, 440896, 451584, 462400, 473344, 484416, 495616, 506944, 518400, 529984, 541696, 553536, 565504, 577600, 589824, 602176, 614656, 627264, 640000, 652864, 665856, 678976, 692224, 705600, 719104, 732736, 746496, 760384, 774400, 788544, 802816, 817216, 831744, 846400, 861184, 876096, 891136, 906304, 921600, 937024, 952576, 968256, 984064]\n"
     ]
    }
   ],
   "source": [
    "quadrats_2=[]\n",
    "o = 0\n",
    "\n",
    "\n",
    "for o in range(1,1000): # com que diu per sota de 1.000 l'excloem\n",
    "    if o%8 == 0: # comprovem que 'o' sigui múltiple de 8, és a dir, que sigui congruent amb 0 (mod 8)\n",
    "        quadrats_2.append(o**2)\n",
    "\n",
    "print(f\"El quadrat dels múltiples de 8 inferiors a 1.000 és: {quadrats_2}\")"
   ]
  },
  {
   "cell_type": "markdown",
   "metadata": {},
   "source": [
    "## People"
   ]
  },
  {
   "cell_type": "code",
   "execution_count": 57,
   "metadata": {},
   "outputs": [],
   "source": [
    "people = [\n",
    "    {\n",
    "        \"name\": \"Juan\",\n",
    "        \"age\": 34,\n",
    "        \"n_kids\": 2\n",
    "    },\n",
    "    {\n",
    "        \"name\": \"Pepe\",\n",
    "        \"age\": 27,\n",
    "        \"n_kids\": 0\n",
    "    },\n",
    "    {\n",
    "        \"name\": \"Sonia\",\n",
    "        \"age\": 41,\n",
    "        \"n_kids\": 1\n",
    "    },\n",
    "    {\n",
    "        \"name\": \"Lucía\",\n",
    "        \"age\": 22,\n",
    "        \"n_kids\": 2\n",
    "    },\n",
    "    {\n",
    "        \"name\": \"Leo\",\n",
    "        \"age\": 55,\n",
    "        \"n_kids\": 5\n",
    "    }\n",
    "]"
   ]
  },
  {
   "cell_type": "markdown",
   "metadata": {},
   "source": [
    "**Cuánta gente hay?**"
   ]
  },
  {
   "cell_type": "code",
   "execution_count": 59,
   "metadata": {},
   "outputs": [
    {
     "name": "stdout",
     "output_type": "stream",
     "text": [
      "A 'people' hi ha 5 persones\n"
     ]
    }
   ],
   "source": [
    "# n'hi ha prou en comptar quants elements hi ha a la llista i ho podem fer amb 'len\"\n",
    "print(f\"A 'people' hi ha {len(people)} persones\")"
   ]
  },
  {
   "cell_type": "markdown",
   "metadata": {},
   "source": [
    "**Cuanta gente tiene hijos**?"
   ]
  },
  {
   "cell_type": "code",
   "execution_count": 61,
   "metadata": {},
   "outputs": [
    {
     "name": "stdout",
     "output_type": "stream",
     "text": [
      "A la llista hi ha 4 persones amb fills\n"
     ]
    }
   ],
   "source": [
    "# Haurem de mirar als valors si n_kids > 0, que vol dir que té fills (no importa el nùmero de fills, només si en té o no)\n",
    "\n",
    "te_fills = 0 # definim el comptador que usarem per esbrinar quantes persones tenen fills\n",
    "\n",
    "for persona in people: # repassem la llista amb un for\n",
    "    if persona[\"n_kids\"] > 0 : # sumarem una unitat al comptador si n_kids és superior estricte a 0\n",
    "        te_fills = te_fills + 1\n",
    "\n",
    "print(f\"A la llista hi ha {te_fills} persones amb fills\")\n"
   ]
  },
  {
   "cell_type": "markdown",
   "metadata": {},
   "source": [
    "**Cuantos hijos tienen en total?**"
   ]
  },
  {
   "cell_type": "code",
   "execution_count": 63,
   "metadata": {},
   "outputs": [
    {
     "name": "stdout",
     "output_type": "stream",
     "text": [
      "El número de fills total és de 10\n"
     ]
    }
   ],
   "source": [
    "num_fills = 0 # definim la variable que sumarà el número de fills de cada persona\n",
    "\n",
    "for persona in people: # repassem la llista amb un for\n",
    "        num_fills = num_fills + persona[\"n_kids\"] # rescatem el valor de 'n_kids' i l'anem sumant a la variable a cada iteració\n",
    "    \n",
    "print(f\"El número de fills total és de {num_fills}\")"
   ]
  },
  {
   "cell_type": "markdown",
   "metadata": {},
   "source": [
    "**En un año, los nombres que terminen en \"a\" tendrán un niño extra. Crea una lista de diccionarios con la información de las personas en un año**"
   ]
  },
  {
   "cell_type": "code",
   "execution_count": 65,
   "metadata": {},
   "outputs": [
    {
     "name": "stdout",
     "output_type": "stream",
     "text": [
      "La llista amb la informació de las persones el nom de les quals acaba en 'a' és: [{'name': 'Sonia', 'age': 41, 'n_kids': 1}, {'name': 'Lucía', 'age': 22, 'n_kids': 2}]\n",
      "\n",
      "Com que sabem que aquestes persones tindran un fill en un any i en tenim 2, això voldrà dir que\n",
      "hi haurà 2 fills adicionals, amb la qual cosa d'ací un any el total de nens serà de 12\n"
     ]
    }
   ],
   "source": [
    "nova_llista = []\n",
    "mida_a = 0\n",
    "\n",
    "# Creem una nova llista amb el contingut de la llista original però mirarem si el valor de \"name\" acaba amb a mitjançant 'endswith'. Definim una nova variable 'mida_a'\n",
    "# per emmagatzemar la mida d'aquesta nova llista per saber quants fills hi haurà d'ací un any.\n",
    "\n",
    "nova_llista = [persona for persona in people if persona[\"name\"].endswith(\"a\")]\n",
    "\n",
    "mida_a = len(nova_llista)\n",
    "total_fills = num_fills + mida_a\n",
    "\n",
    "print(f\"La llista amb la informació de las persones el nom de les quals acaba en 'a' és: {nova_llista}\")\n",
    "print(f\"\\nCom que sabem que aquestes persones tindran un fill en un any i en tenim {mida_a}, això voldrà dir que\")\n",
    "print(f\"hi haurà {mida_a} fills adicionals, amb la qual cosa d'ací un any el total de nens serà de {total_fills}\")"
   ]
  }
 ],
 "metadata": {
  "kernelspec": {
   "display_name": "Python 3 (ipykernel)",
   "language": "python",
   "name": "python3"
  },
  "language_info": {
   "codemirror_mode": {
    "name": "ipython",
    "version": 3
   },
   "file_extension": ".py",
   "mimetype": "text/x-python",
   "name": "python",
   "nbconvert_exporter": "python",
   "pygments_lexer": "ipython3",
   "version": "3.12.4"
  },
  "toc": {
   "base_numbering": 1,
   "nav_menu": {},
   "number_sections": false,
   "sideBar": true,
   "skip_h1_title": false,
   "title_cell": "Table of Contents",
   "title_sidebar": "Contents",
   "toc_cell": false,
   "toc_position": {},
   "toc_section_display": true,
   "toc_window_display": true
  },
  "varInspector": {
   "cols": {
    "lenName": 16,
    "lenType": 16,
    "lenVar": 40
   },
   "kernels_config": {
    "python": {
     "delete_cmd_postfix": "",
     "delete_cmd_prefix": "del ",
     "library": "var_list.py",
     "varRefreshCmd": "print(var_dic_list())"
    },
    "r": {
     "delete_cmd_postfix": ") ",
     "delete_cmd_prefix": "rm(",
     "library": "var_list.r",
     "varRefreshCmd": "cat(var_dic_list()) "
    }
   },
   "types_to_exclude": [
    "module",
    "function",
    "builtin_function_or_method",
    "instance",
    "_Feature"
   ],
   "window_display": false
  },
  "vscode": {
   "interpreter": {
    "hash": "aee8b7b246df8f9039afb4144a1f6fd8d2ca17a180786b69acc140d282b71a49"
   }
  }
 },
 "nbformat": 4,
 "nbformat_minor": 4
}
